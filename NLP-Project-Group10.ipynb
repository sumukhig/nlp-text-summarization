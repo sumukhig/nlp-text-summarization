{
 "cells": [
  {
   "cell_type": "markdown",
   "id": "46225c01-2085-4ac6-a2b6-d50de67c4db9",
   "metadata": {},
   "source": [
    "### Importing Necessary Packages"
   ]
  },
  {
   "cell_type": "code",
   "execution_count": 425,
   "id": "a4a43050-4f1b-47ef-9f96-b7b06f0b851b",
   "metadata": {},
   "outputs": [],
   "source": [
    "import random\n",
    "import pandas as pd\n",
    "import numpy as np\n",
    "import re\n",
    "from sentence_transformers import SentenceTransformer\n",
    "embedder = SentenceTransformer('distilbert-base-nli-mean-tokens')\n",
    "\n",
    "from sklearn.cluster import KMeans\n",
    "from sklearn.manifold import TSNE\n",
    "import matplotlib.pyplot as plt\n",
    "from wordcloud import WordCloud"
   ]
  },
  {
   "cell_type": "markdown",
   "id": "066ca546-0927-4a02-9174-67451baba340",
   "metadata": {},
   "source": [
    "### Extracting Research Paper Data From XML files"
   ]
  },
  {
   "cell_type": "code",
   "execution_count": 426,
   "id": "8a755899-bb6f-42fd-8710-483f087b22f2",
   "metadata": {},
   "outputs": [],
   "source": [
    "import xml.etree.ElementTree as ET\n",
    "\n",
    "xml_file_path = \"/Users/sindhuswaroop/Documents/NEU/Semester 4/NLP/Project/scisummnet_release1.1__20190413/top1000_complete/W99-0629/Documents_xml/W99-0629.xml\"\n",
    "#xml_file_path = \"/Users/sindhuswaroop/Documents/NEU/Semester 4/NLP/Project/scisummnet_release1.1__20190413/top1000_complete/W99-0623/Documents_xml/W99-0623.xml\"\n",
    "tree = ET.parse(xml_file_path)\n",
    "root = tree.getroot()\n",
    "\n",
    "# Function to extract all text data from the XML tree\n",
    "def extract_text_data(element):\n",
    "    # Some data cleaning steps\n",
    "    text = (element.text or \"\").strip()\n",
    "    text_data = text.lower()\n",
    "    text_data = text_data.replace(\"quot\", \"\")\n",
    "    text_data = re.sub(r'https?://\\S+', '', text_data) \n",
    "    text_data = re.sub(r'[^\\w\\s]', '', text_data)\n",
    "    \n",
    "    for child in element:\n",
    "        text_data = np.append(text_data, extract_text_data(child))\n",
    "    \n",
    "    return text_data\n",
    "\n",
    "# Extract all data as a list of sentences\n",
    "all_data_text = list(extract_text_data(root))"
   ]
  },
  {
   "cell_type": "code",
   "execution_count": 427,
   "id": "40a84d0c-dce6-442a-b642-2519cc43ac1a",
   "metadata": {},
   "outputs": [],
   "source": [
    "# Remove any empty quotes from the list that have been generated as a result of whitespaces\n",
    "corpus_init = [item for item in all_data_text if item != '']\n",
    "# Remove the title of the paper from the corpus\n",
    "corpus = corpus_init[1:]"
   ]
  },
  {
   "cell_type": "markdown",
   "id": "c8c81cf6-913e-4c5d-bd06-f0843848d3e5",
   "metadata": {},
   "source": [
    "### Create Sentence Embeddings"
   ]
  },
  {
   "cell_type": "code",
   "execution_count": 428,
   "id": "5bc635c7-7ea7-4a2c-87ba-4ed05aa7f7dd",
   "metadata": {},
   "outputs": [
    {
     "data": {
      "text/plain": [
       "array([[-1.012199  ,  0.17508511,  0.17485283, ..., -0.22337137,\n",
       "        -0.47548178, -0.08711005],\n",
       "       [-0.678853  , -0.34683377,  0.41877174, ..., -0.1500783 ,\n",
       "        -0.30285347,  0.08025892],\n",
       "       [-0.24281536,  0.04788744,  0.22654526, ..., -0.4888069 ,\n",
       "        -0.23782721, -0.2504147 ],\n",
       "       ...,\n",
       "       [-0.6477107 ,  0.07216249,  0.28515923, ...,  0.09160032,\n",
       "        -0.20706658,  0.2806898 ],\n",
       "       [ 0.27915314,  0.20080784,  0.7615137 , ...,  0.09984943,\n",
       "        -0.41873354, -1.0703954 ],\n",
       "       [-0.5795836 , -0.10806998,  0.01855101, ..., -0.37602288,\n",
       "         0.09338623, -0.5323497 ]], dtype=float32)"
      ]
     },
     "execution_count": 428,
     "metadata": {},
     "output_type": "execute_result"
    }
   ],
   "source": [
    "# Use the distilbert model to create sentence embeddings\n",
    "corpus_embeddings = embedder.encode(corpus)\n",
    "corpus_embeddings"
   ]
  },
  {
   "cell_type": "markdown",
   "id": "ed74d0ed-d4c4-4b88-a63f-f250a7087d26",
   "metadata": {},
   "source": [
    "### Elbow Method To Choose Optimum K-value "
   ]
  },
  {
   "cell_type": "code",
   "execution_count": 429,
   "id": "453fcceb-99e3-49b4-a968-06959b99fee6",
   "metadata": {},
   "outputs": [
    {
     "data": {
      "image/png": "[encoded data removed]",
      "text/plain": [
       "<Figure size 432x288 with 1 Axes>"
      ]
     },
     "metadata": {
      "needs_background": "light"
     },
     "output_type": "display_data"
    }
   ],
   "source": [
    "np.random.seed(60)\n",
    "\n",
    "ks = range(2, 6)\n",
    "inertias = []\n",
    "for k in ks:\n",
    "    # Create a KMeans instance with k clusters: model\n",
    "    model = KMeans(n_clusters=k, n_init='auto')\n",
    "    # Fit model to samples\n",
    "    model.fit(corpus_embeddings)\n",
    "    # Append the inertia to the list of inertias\n",
    "    inertias.append(model.inertia_)\n",
    "    \n",
    "# Plot ks vs inertias\n",
    "plt.plot(ks, inertias, '-o')\n",
    "plt.xlabel('number of clusters, k')\n",
    "plt.ylabel('inertia')\n",
    "plt.xticks(ks)\n",
    "plt.show()"
   ]
  },
  {
   "cell_type": "markdown",
   "id": "ddbde223-a202-4022-98b8-4122e2dff684",
   "metadata": {},
   "source": [
    "Inertia decreases slowly from clusters 4 to 5, so 4 clusters looks like the best option"
   ]
  },
  {
   "cell_type": "code",
   "execution_count": 430,
   "id": "c1d50f39-9fa8-4b43-af98-df94b98e2a2a",
   "metadata": {},
   "outputs": [],
   "source": [
    "np.random.seed(60)\n",
    "\n",
    "# Use the K-means clustering algorithm to create clusters of sentences that are grouped by similarity\n",
    "num_clusters = 4\n",
    "clustering_model = KMeans(n_clusters=num_clusters, n_init='auto')\n",
    "clustering_model.fit(corpus_embeddings)\n",
    "cluster_assignment = clustering_model.labels_\n",
    "clusterCenter = clustering_model.cluster_centers_"
   ]
  },
  {
   "cell_type": "code",
   "execution_count": 431,
   "id": "635d3704-8e8b-41df-b4b6-87235b4503a0",
   "metadata": {},
   "outputs": [
    {
     "data": {
      "text/plain": [
       "array([2, 2, 2, 1, 0, 2, 0, 0, 0, 2, 1, 2, 3, 3, 3, 1, 2, 2, 1, 0, 3, 1,\n",
       "       3, 2, 0, 2, 2, 0, 2, 2, 2, 2, 2, 1, 3, 0, 1, 2, 0, 1, 1, 1, 2, 2,\n",
       "       1, 3, 2, 3, 3, 2, 2, 2, 1, 1, 1, 2, 0, 3, 1, 2, 1, 1, 1, 2, 2, 2,\n",
       "       2, 3, 1, 2, 3, 3, 1, 2, 2, 0, 1, 2, 2, 0, 1, 3, 3, 3, 2, 3, 1, 3,\n",
       "       2, 1, 3, 1, 3, 2, 3, 0, 3, 3, 0, 3, 3, 3, 1, 3, 3, 1, 1, 1, 3, 3,\n",
       "       1, 2, 1, 3, 0, 2, 3, 2, 1, 0, 1, 2, 0, 2, 2, 2, 1, 3, 2, 3, 2, 3,\n",
       "       2, 0, 0, 3, 2, 2, 2, 1, 2, 3, 2, 1, 3, 3, 3, 3, 3, 2, 1, 0, 1, 3,\n",
       "       0, 3, 0, 3, 3, 1, 1, 3, 3, 3, 3, 3, 1, 3, 2, 0, 1, 2, 1, 1, 3, 1,\n",
       "       0, 0, 0, 2, 0, 1, 0, 0, 0, 1, 0, 3], dtype=int32)"
      ]
     },
     "execution_count": 431,
     "metadata": {},
     "output_type": "execute_result"
    }
   ],
   "source": [
    "cluster_assignment"
   ]
  },
  {
   "cell_type": "code",
   "execution_count": 432,
   "id": "3e96e7a9-ab30-49b7-82c1-9a5dd93c28fd",
   "metadata": {},
   "outputs": [
    {
     "data": {
      "text/html": [
       "<div>\n",
       "<style scoped>\n",
       "    .dataframe tbody tr th:only-of-type {\n",
       "        vertical-align: middle;\n",
       "    }\n",
       "\n",
       "    .dataframe tbody tr th {\n",
       "        vertical-align: top;\n",
       "    }\n",
       "\n",
       "    .dataframe thead th {\n",
       "        text-align: right;\n",
       "    }\n",
       "</style>\n",
       "<table border=\"1\" class=\"dataframe\">\n",
       "  <thead>\n",
       "    <tr style=\"text-align: right;\">\n",
       "      <th></th>\n",
       "      <th>corpus</th>\n",
       "      <th>cluster</th>\n",
       "    </tr>\n",
       "  </thead>\n",
       "  <tbody>\n",
       "    <tr>\n",
       "      <th>0</th>\n",
       "      <td>in this paper we discuss cascaded memory based...</td>\n",
       "      <td>2</td>\n",
       "    </tr>\n",
       "    <tr>\n",
       "      <th>1</th>\n",
       "      <td>in the first stages of the cascade we find chu...</td>\n",
       "      <td>2</td>\n",
       "    </tr>\n",
       "    <tr>\n",
       "      <th>2</th>\n",
       "      <td>in the last stage we assign grammatical relati...</td>\n",
       "      <td>2</td>\n",
       "    </tr>\n",
       "    <tr>\n",
       "      <th>3</th>\n",
       "      <td>we studied the effect of adding several levels...</td>\n",
       "      <td>1</td>\n",
       "    </tr>\n",
       "    <tr>\n",
       "      <th>4</th>\n",
       "      <td>when dealing with large amounts of text findin...</td>\n",
       "      <td>0</td>\n",
       "    </tr>\n",
       "    <tr>\n",
       "      <th>5</th>\n",
       "      <td>traditionally full parsing is used to find str...</td>\n",
       "      <td>2</td>\n",
       "    </tr>\n",
       "    <tr>\n",
       "      <th>6</th>\n",
       "      <td>however full parsing is a complex task and oft...</td>\n",
       "      <td>0</td>\n",
       "    </tr>\n",
       "    <tr>\n",
       "      <th>7</th>\n",
       "      <td>for many tasks detecting only shallow structur...</td>\n",
       "      <td>0</td>\n",
       "    </tr>\n",
       "    <tr>\n",
       "      <th>8</th>\n",
       "      <td>for example in information retrieval it can be...</td>\n",
       "      <td>0</td>\n",
       "    </tr>\n",
       "    <tr>\n",
       "      <th>9</th>\n",
       "      <td>in this paper we discuss some memorybased mb s...</td>\n",
       "      <td>2</td>\n",
       "    </tr>\n",
       "  </tbody>\n",
       "</table>\n",
       "</div>"
      ],
      "text/plain": [
       "                                              corpus  cluster\n",
       "0  in this paper we discuss cascaded memory based...        2\n",
       "1  in the first stages of the cascade we find chu...        2\n",
       "2  in the last stage we assign grammatical relati...        2\n",
       "3  we studied the effect of adding several levels...        1\n",
       "4  when dealing with large amounts of text findin...        0\n",
       "5  traditionally full parsing is used to find str...        2\n",
       "6  however full parsing is a complex task and oft...        0\n",
       "7  for many tasks detecting only shallow structur...        0\n",
       "8  for example in information retrieval it can be...        0\n",
       "9  in this paper we discuss some memorybased mb s...        2"
      ]
     },
     "execution_count": 432,
     "metadata": {},
     "output_type": "execute_result"
    }
   ],
   "source": [
    "# Create a data frame to view the clustering of each sentence in the corpus\n",
    "cluster_df = pd.DataFrame(corpus, columns = ['corpus'])\n",
    "cluster_df['cluster'] = cluster_assignment\n",
    "cluster_df.head(10)"
   ]
  },
  {
   "cell_type": "markdown",
   "id": "2fa339e0-c4ca-4e83-bf89-51d40eb75eec",
   "metadata": {},
   "source": [
    "### Visualize K-means clusters in 2-D"
   ]
  },
  {
   "cell_type": "code",
   "execution_count": 433,
   "id": "c83bb719-6349-4e0c-8250-df2c1582aab1",
   "metadata": {},
   "outputs": [
    {
     "data": {
      "image/png": "[encoded data removed]",
      "text/plain": [
       "<Figure size 576x432 with 1 Axes>"
      ]
     },
     "metadata": {
      "needs_background": "light"
     },
     "output_type": "display_data"
    }
   ],
   "source": [
    "# Create a t-SNE object with 2 components (2D visualization)\n",
    "tsne = TSNE(n_components=2, random_state=42)\n",
    "\n",
    "# clusterCenterFit the t-SNE on your data (corpus_embeddings)\n",
    "embeddings_2d = tsne.fit_transform(corpus_embeddings)\n",
    "cluster_centers_2d = np.zeros((num_clusters, 2))\n",
    "\n",
    "# Plot the data points with different colors based on their cluster assignments\n",
    "plt.figure(figsize=(8, 6))\n",
    "for i in range(num_clusters):\n",
    "    plt.scatter(embeddings_2d[cluster_assignment == i, 0],\n",
    "                embeddings_2d[cluster_assignment == i, 1],\n",
    "                label=f\"Cluster {i}\")\n",
    "    cluster_centers_2d[i] = np.mean(embeddings_2d[cluster_assignment == i], axis=0)\n",
    "\n",
    "# Plot the cluster centers with black 'X' markers\n",
    "plt.scatter(cluster_centers_2d[:, 0], cluster_centers_2d[:, 1],\n",
    "            marker='X', s=150, color='black', label='Cluster Centers')\n",
    "\n",
    "plt.legend()\n",
    "plt.title(\"t-SNE Visualization of K-means Clusters\")\n",
    "plt.xlabel(\"t-SNE Dimension 1\")\n",
    "plt.ylabel(\"t-SNE Dimension 2\")\n",
    "plt.show()"
   ]
  },
  {
   "cell_type": "markdown",
   "id": "c0bc42e9-2dc9-436f-ab02-67b761290245",
   "metadata": {},
   "source": [
    "### Display Clusters "
   ]
  },
  {
   "cell_type": "code",
   "execution_count": 434,
   "id": "c493fa64-543c-4b06-9049-40b848b39770",
   "metadata": {},
   "outputs": [
    {
     "name": "stdout",
     "output_type": "stream",
     "text": [
      "\n",
      "Cluster  1\n",
      "['when dealing with large amounts of text finding structure in sentences is often a useful preprocessing step', 'however full parsing is a complex task and often provides us with more information then we need', 'for many tasks detecting only shallow structures in a sentence in a fast and reliable way is to be preferred over full parsing', 'for example in information retrieval it can be enough to find only simple nps and vps in a sentence for information extraction we might also want to find relations between constituents as for example the subject and object of a verb', 'collins 1997 ratnaparkhi 1997 use cascaded processing for full parsing with good results', 'through experiments with cascading several classifiers we will show that even using imperfect classifiers can improve overall performance of the cascaded classifier', 'since not all of these entities are predicted reliably it is the question whether each source leads to an improvement of the overall gr assignment', '1999b have shown that for typical natural language processing tasks this approach is at an advantage because it also remembers exceptional lowfrequency cases which are useful to extrapolate from', 'ib1ig  ib1 with information gain an informationtheoretic notion measuring the reduction of uncertainty about the class to be predicted when knowing the value of a feature to weight the cost of a feature value mismatch during comparison', 'precision is the percentage of predicted chunksrelations that are actually correct recall is the percentage of correct chunksrelations that are actually found', 'defining relations to hold between heads means that the algorithm can for example find a subject relation between a noun and a verb without necessarily having to make decisions about the precise boundaries of the subject np', 'it also has similar features for the local context of the focus', 'intuitively this ordering makes sense', 'the word itself may be important if it is eg a preposition a pronoun or a clearly temporallocal adverb', 'relative to the other old features the structural features 1 and 2 have gained importance probably because more structure is available in the input to represent', 'experiments on the training data showed that increasing the admitted number of intervening vp chunks slightly increases recall at the cost of precision', 'this gives us the precision of the classifier', 'we can see that the more structure we add the better precision and recall of the grammatical relations get precision increases from 607 to 748 recall from 413 to 679', 'this in spite of the fact that the added information is not always correct because it was predicted for the test material on the basis of the training material by the classifiers described in section 31', 'as we already noted above precision and recall are monotonically increasing when adding more structure', 'preps on the other hand while hardly reducing the average distance or the number of instances improve 131 by nearly 1', 'what may come as a surprise is that adverbial functions again increase f31 by nearly 2 despite the fact that f1 for this advftjnc assignment step was not very high', 'that paper also shows that the chunking method proposed here performs about as well as other methods and that the influence of tagging errors on np chunking is less than 1', 'the latter percentage shows what could maximally be gained by further improving the chunker and advfuncs finder', 'on realistic data a realistic advfuncs finder improves cr assigment by 19', 'on perfect data a perfect advfuncs finder increases performance by 63', 'we showed that even the use of imperfect modules improves the overall result of the cascade', 'this enables the classifier to better cope with systematic errors in train and test material', 'we expect that especially an improvement of the adverbial function assignment will lead to better or assignment', 'finally since cascading proved effective for gr assignment we intend to study the effect of cascading different types of xp chunkers on chunking performance', 'other chunker orderings are possible too']\n",
      "\n",
      "Cluster  2\n",
      "['we studied the effect of adding several levels to this cascaded classifier and we found that even the less performing chunkers enhanced the performance of the relation finder', 'several mb modules have been developed in previous work such as a pos tagger daelemans et al 1996 a chunker veenstra 1998 tjong kim sang and veenstra 1999 and a grammatical relation gr assigner buchholz 1998', 'abney 1991 is one of the first who proposed to split up parsing into several cascades', 'brants and skut 1998 describe a partially automated annotation tool which constructs a complete parse of a sentence by recursively adding levels to the tree', '1998 applied memorybased sequence learning mbsl to np chunking and subjectobject identification', 'memorybased learning mbl keeps all training data in memory and only abstracts at classification time by extrapolating a class from the most similar items in memory', 'moreover automatic feature weighting in the similarity metric of an mb learner makes the approach wellsuited for domains with large numbers of features from heterogeneous sources as it embodies a smoothingbysimilarity method when data is sparse zavrel and daelemans 1997', 'igtree  in this variant a decision tree is created with features as tests and ordered according to the information gain of the features as a heuristic approximation of the computationally more expensive ib1 variants', 'for more references and information about these algorithms we refer to daelemans et al 1998 daelemans et al 1999b', 'for other memorybased approaches to parsing see bod 1992 and sekine 1998', 'the next three stages involve determining boundaries and labels of chunks', 'the data for all our experiments was extracted from the penn treebank ii wall street journal wsj corpus marcus et al 1993', 'for all experiments we used sections 0019 as training material and 2024 as test material', 'see section 4 for results on other traintest set splittings', 'i321preerec with 3 1 in the first experiment described in this section the task is to segment the sentence into chunks and to assign labels to these chunks', 'ramshaw and marcus 1995 first assigned a chunk tag to each word in the sentence i for inside a chunk 0 for outside a chunk and b for inside a chunk but the preceding word is in another chunk', 'as we want to find more than one kind of chunk we have to further differentiate the job tags as to which kind of chunk np vp prep adjp or advp the word is in', 'with the extended job tag set at hand we can tag the sentence after having found prep np and other chunks we collapse preps and nps to pps in a second step', 'table 1 gives an overview of the results of the chunkinglabeling experiments using the following algorithms determined by validation on the train set ibiig for xpchunking and igtree for ppchunking and advfuncs assignment', 'npvp adjp advp and prepchunks are found simultaneously but for convenience precision and recall values are given separately for each type of chunk experiments one of these words is always a verb since this yields the most important grs', 'suppose we had the postagged sentence shown in figure 1 and we wanted the algorithm to decide whether and if so how miller henceforth the focus is related to the first verb organized', 'experiments on the training data suggest an optimal context width of two elements to the left and one to the right', 'the features were chosen by manual 67 89 and 1213 describe the context words features 1011 the focus word', 'table 2 shows the complete instance for millerorganized in row 5 together with the other first four instances for the sentence', 'other possible classes are those from a list of more than 100 different labels found in the treebank', 'to test the effects of the chunking steps from section 31 on this task we will now construct instances based on more structured input text like that in figure 2', 'each chunk in the context is represented by its last word which is the semantically most important word in most cases by the pos of the last word and by the type of chunk', 'the distance feature is adapted to the new definition of element too and instead of counting intervening verbs we now count intervening vp chunks', 'figure 3 shows the first five instances for the sentence in figure 2', 'comparing this to the earlier feature ordering we see that most of the new features are distance and intervening vps and commas', 'features 68 911 and 1719 describe the context wordschunks features 1216 the focus chunk', 'in the training data 979 of the related pairs fulfill this condition when counting vp chunks', 'having constructed all instances from the test data and from a training set with the same level of partial structure we first train the igtree algorithm and then let it classify the test instances', 'the classification task was always that of finding grammatical relations to verbs and performance was always measured by precision and recall on those relations the test set contained 45825 relations', 'the former adds an extra informative feature to the instances of the latter feature 16 in table 3', 'without the chunker the relations finder would have to decide for every word whether it is the head of a constituent that bears a relation to the verb', 'the pp chunker reduces the number of decisions for the relations finder instead of one instance for the preposition and one for the np chunk we get only one instance for the pp chunk introduces an extra feature feature 12 in table 3 and changes the context instead of a preposition and an np context may now be one pp', 'however we note large differences such as np chunks which increase fs_i by more than 10 and vp chunks which add another 68 whereas advps and adjps yield hardly any improvement', 'table 4 also shows individual fp_1 values for four selected common grammatical relations subject np indirect object np locative pp adjunct and temporal pp adjunct', 'note that the steps have different effects on the different relations adding nps increases fpi by 113 for subjects resp', 'argamon et al 1998 report f131 for subject and object identification of respectively 865 and 830 compared to 818 and 810 in this paper', 'to study the effect of the errors in the lower modules other than the tagger we used perfect test data in a last experiment ie data annotated with partial information taken directly from the treebank', 'we see that later modules suffer from errors of earlier modules as could be expected fp_1 of pp chunking is 92 but could have previous modules in the cascade vs on perfect input enriched with partial treebank annotation', 'for pps this means perfect pos tags and chunk labelsboundaries for advfunc additionally perfect pp chunks for gr assignment also perfect advfunc labels been 979 if all previous chunks would have been correct 59', 'for grammatical relation assignment the last module in the cascade the difference is not surprisingly the largest 79 for chunks only 123 for chunks and advfuncs', 'in future research we plan to also train our classifiers on imperfectly chunked material', 'we might eg first find adjp chunks then use that chunkers output as additional input for the np chunker then use the combined output as input to the vp chunker and so on']\n",
      "\n",
      "Cluster  3\n",
      "['in this paper we discuss cascaded memory based grammatical relations assignment', 'in the first stages of the cascade we find chunks of several types npvpadjpadvppp and label them with their adverbial function eg local temporal', 'in the last stage we assign grammatical relations to pairs of chunks', 'traditionally full parsing is used to find structure in sentences', 'in this paper we discuss some memorybased mb shallow parsing techniques to find labeled chunks and grammatical relations in a sentence', 'the questions we will answer in this paper are can we reuse these modules in a cascade of classifiers', 'he suggests to first find the chunks and then the dependecies between these chunks', 'crefenstette 1996 describes a cascade of finitestate transducers which first finds noun and verb groups then their heads and finally syntactic functions', 'drawing from this previous work we will explicitly study the effect of adding steps to the grammatical relations assignment cascade', 'we illustrate this claim on the task of finding grammatical relations eg subject object locative to verbs in text', 'the cr assigner uses several sources of information step by step such as several types of xp chunks np vp pp adjp and advp and adverbial functions assigned to these chunks eg temporal local', 'in the rest of this paper we will first briefly describe memorybased learning in section 2', 'in section 31 we discuss the chunking classifiers that we later use as steps in the cascade', 'section 32 describes the basic gr classifier', 'section 33 presents the architecture and results of the cascaded gr assignment experiments', 'we discuss the results in section 4 and conclude with section 5', 'we have used the following mbl algorithms test item and each memory item is defined as the number of features for which they have a different value overlap metric', 'in this section we describe the stages of the cascade', 'the very first stage consists of a memorybased partofspeech tagger mbt for which we refer to daelemans et al 1996', 'first we simultaneously chunk sentences into np vp prep adjp and apvpchunks', 'then we join a prepchunk and one  or more coordinated  npchunks into a ppchunk', 'finally we assign adverbial function advfunc labels eg locative or temporal to all chunks', 'in the last stage of the cascade we label several types of grammatical relations between pairs of words in the sentence', 'for evaluation of our results we use the precision and recall measures', 'this process of chunking and labeling is carried out by assigning a tag to each word in a sentence lefttoright', 'while the gr assigner finds relations between vps and other chunks cf', 'section 32 the pp chunker finds relations between prepositions and nps 2 in a way similar to or assignment see section 32', 'in the last chunkinglabeling step we assign adverbial functions to chunks', 'the classes are the adverbial function labels from the treebank loc locative tmp temporal dir', 'in grammatical relation assignment we assign a gr to pairs of words in a sentence', 'the other word is the head of the phrase which is annotated with this grammatical relation in the treebank', 'a preposition is the head of a pp a noun of an np and so on', 'we then construct an instance for this pair of words by extracting a set of feature values from the sentence', 'the instance contains information about the verb and the focus a feature for the word form and a feature for the pos of both', 'the second feature contains the number of other verbs between the verb and the focus', 'feature engineering', 'npsbj for subject npprd for predicative object np for indirect object3 pploc for locative pp adjunct pplocclr for subcategorised locative pp etcetera', 'features 4 and 5 show the verb and its pos', 'in principle we would have to construct one instance for each possible pair of a verb and a focus word in the sentence', 'this restriction allows for example for a relative clause on the subject as in our example sentence', 'then for each test instance that was classified with a grammatical relation we check whether the same verbfocuspair appears with the same relation in the gr list extracted directly from the treebank', 'checking the treebank list versus the classified list yields we have already seen from the example that the level of structure in the input text can influence the composition of the instances', 'we are interested in the effects of different sorts of partial structure in the input data on the classification performance of the final classifier', 'therefore we ran a series of experiments', 'table 4 shows the results of the experiments', 'then np chunks are added', 'finally the adverbial function labels are added', 'there are three ways how two cascaded modules can interact', ' the first module can add information on which the later module can partially base its decisions', 'this is the case between the adverbial functions finder and the relations finder', 'cf column two of table 4', 'this is the case in the combination of the chunking steps and the relations finder', 'all three effects interact in the cascade we describe', 'for a detailed comparison of the two methods on the same task see daelemans et al 1999a', 'the results are shown in table 5', 'in this paper we studied cascaded grammatical relations assignment']\n",
      "\n",
      "Cluster  4\n",
      "['what is the effect of cascading', 'will errors at a lower level percolate to higher modules', 'recently many people have looked at cascaded andor shallow parsing and or assignment', 'argamon et at', 'however their subject and object finders are independent of their chunker ie not cascaded', 'in recent work daelemans et at', 'chunks are nonrecursive nonoverlapping constituent parts of sentences see abney 1991', 'as these chunks are nonoverlapping no words can belong to more than one chunk and thus no conflicts can arise', 'prepchunks are the prepositional part of pps thus excluding the nominal part', 'for convenient comparisons of only one value we also list the fo1 value cjvan rijsbergen 1979', 'directional prp purpose and reason mnr manner ext extension or 2 for none of the former', 'in our 2pps containing anything else than nps eg', 'without bringing his wife are not searched for ments', 'in the present case elements are words or punctuation signs', 'in addition to the lexical and the local context information we include superficial information about clause structure the first feature indicates the distance from the verb to the focus counted in elements', 'a negative distance means that the focus is to the left of the verb', 'the third feature is the number of intervening commas', 'empty contexts are indicated by the value  for all features', 'the class is mostly  to indicate that the word does not have a direct grammatical relation to organized', 'these are combinations of a syntactic category and zero one or more functions eg', 'according to their information gain values features are ordered with decreasing importance as follows 1113 10 1 2 8 12 9 6  4  7  3  5', 'the most important feature is the pos of the focus because this determines whether it can have a gr to a verb at all fninctuation cannot and what kind of relation is possible', 'the pos of the following word is important because eg a noun followed by a noun is probably not the head of an np and will therefore not have a direct gr to the verb', 'features 1 and 2 give some indication of the complexity of the structure intervening between the focus and the verb', 'the more complex this structure the lower the probability that the focus and the verb are related', 'context further away is less important than near context', 'this time the focus is described by five features instead of two for the additional information which type of chunk it is in what the preposition is if it is in a pp chunk and what the adverbial function is if any', 'we still have a context of two elements left one right but elements are now defined to be either chunks or words outside any chunk or punctuation', 'class value  again means the focus is not directly related to the verb but to some other verb or a nonverbal element', 'according to their information gain values features are ordered in decreasing importance as follows 16 15 12 14 11 2 1 19 10 9 13 18 6 17 8 4 7 3 5', 'empty contexts are indicated by the  for all features very important thereby justifying their introduction', 'however we restrict instances to those where there is at most one other verbvp chunk between the verb and the focus in case the focus precedes the verb and no other verb in case the verb precedes the focus', 'the amount of structure in the input data varied', 'in the first experiment only pos tagged input is used', 'other sorts of chunks are inserted at each subsequent step', 'as we have seen in table 1 especially adjp and advp chunks and adverbial function labels did not have very high precision and recall', ' the first module can restrict the number of decisions to be made by the second one', 'with the churlker the relations finder has to make this decision for fewer words namely only for those which are the last word in a chunk resp the preposition of a pp chunk', 'practically this reduction of the number of decisions which translates into a reduction of instances as can be seen in the third column of table 4', ' the first module can reduce the number of elements used for the instances by counting one chunk as just one context element', 'we can see the effect in the feature that indicates the distance in elements between the focus and the verb', 'the more chunks are used the smaller the average absolute distance see column four table 4', 'this may partially be explained by the fact that these chunks are less frequent than the former two', 'pps yield another 11', 'this result shows that cascaded modules need not be perfect to be useful', 'up to now we only looked at the overall results', '162 for objects but only 39 resp', '37 for locatives and temporals', 'adverbial functions are more important for the two adjuncts 63 resp', '15 than for the two complements 02 resp', '07', 'note however that argamon et al 1998 do not identify the head of subjects subjects in embedded clauses or subjects and objects related to the verb only through a trace which makes their task easier', 'for adverbial functions the difference is 35', 'likewise it might be better to find different grammatical relations subsequently instead of simultaneously']\n"
     ]
    }
   ],
   "source": [
    "# Display the sentences grouped under each cluster and \n",
    "# generate the text summary by picking the first sentence in each cluster\n",
    "clustered_sentences = [[] for i in range(num_clusters)]\n",
    "for sentence_id, cluster_id in enumerate(cluster_assignment):\n",
    "    clustered_sentences[cluster_id].append(corpus[sentence_id])\n",
    "most_important_sentence = \"\"\n",
    "summary = \"\"\n",
    "for i, cluster in enumerate(clustered_sentences):\n",
    "    print(\"\\nCluster \", i+1)\n",
    "    print(cluster)\n",
    "    most_important_sentence = cluster[0][:1].upper() + cluster[0][1:]\n",
    "    summary += most_important_sentence + \". \""
   ]
  },
  {
   "cell_type": "markdown",
   "id": "bb3216b3-347b-4672-a9a8-8194b87fee1e",
   "metadata": {},
   "source": [
    "### Generate Text Summary"
   ]
  },
  {
   "cell_type": "code",
   "execution_count": 435,
   "id": "13ff6bf3-936d-4273-84fe-2ec5b1bf3ee2",
   "metadata": {},
   "outputs": [
    {
     "name": "stdout",
     "output_type": "stream",
     "text": [
      "Cascaded grammatical relation assignment \n",
      "\n",
      "Text Summary: When dealing with large amounts of text finding structure in sentences is often a useful preprocessing step. We studied the effect of adding several levels to this cascaded classifier and we found that even the less performing chunkers enhanced the performance of the relation finder. In this paper we discuss cascaded memory based grammatical relations assignment. What is the effect of cascading. \n"
     ]
    }
   ],
   "source": [
    "print(corpus_init[0][:1].upper()+corpus_init[0][1:], \"\\n\\nText Summary:\", summary)"
   ]
  },
  {
   "cell_type": "markdown",
   "id": "3799257f-663c-4573-8ade-7fa8ea421508",
   "metadata": {},
   "source": [
    "### Evaluate Text Summary"
   ]
  },
  {
   "cell_type": "code",
   "execution_count": 436,
   "id": "5edaa138-3639-4ef1-bde1-3b9d8e3cfefb",
   "metadata": {},
   "outputs": [],
   "source": [
    "# Import necessary packages\n",
    "from rouge_score import rouge_scorer"
   ]
  },
  {
   "cell_type": "code",
   "execution_count": 437,
   "id": "c5c30718-4f02-47ce-9cbb-557195dc4f1d",
   "metadata": {},
   "outputs": [],
   "source": [
    "# reference_summaries = [\"Three state-of-the-art statistical parsers are combined to produce more accurate parses, \\\n",
    "# as well as new bounds on achievable Treebank parsing accuracy. Two general approaches are presented and two combination \\\n",
    "# techniques are described for each approach. Both parametric and non-parametric models are explored. The resulting parsers \\\n",
    "# surpass the best previously published performance results for the Penn Treebank. We improve the best parser's F-measure of \\\n",
    "# 89.7 to 91.3, using naive Bayes voting on the Penn TreeBank constituent structures (16% error reduction). Regarding the \\\n",
    "# system combination study, we propose two parser combination schemes, one that selects an entire tree from one of the parsers, \\\n",
    "# and one that builds a new tree by selecting constituents suggested by the initial trees. We perform parse selection by \\\n",
    "# maximizing the expected precision of the selected parse with respectto the set of parses being combined.\"]\n",
    "\n",
    "reference_summaries = [\"In this paper we discuss cascaded Memory-Based grammatical relations assignment. In the first stages \\\n",
    "of the cascade, we find chunks of several types (NP,VP,ADJP,ADVP,PP) and label them with their adverbial function (e.g. local, \\\n",
    "temporal).In the last stage, we assign grammatical relations to pairs of chunks. We studied the effect of adding several \\\n",
    "levels to this cascaded classifier and we found that even the less performing chunkers enhanced the performance of the \\\n",
    "relation finder. We achieve 71.2 F-score for grammatical relation assignment on automatically tagged and chunked text after \\\n",
    "training on about 40,000 Wall Street Journal sentences.\"]\n",
    "\n",
    "generated_summaries = [summary]"
   ]
  },
  {
   "cell_type": "code",
   "execution_count": 438,
   "id": "d876dfb2-ec79-4e76-a63f-45be4b83aa2d",
   "metadata": {},
   "outputs": [
    {
     "name": "stdout",
     "output_type": "stream",
     "text": [
      "ROUGE scores for generated summary 1:\n",
      "ROUGE-1 Precision: 0.7741935483870968\n",
      "ROUGE-1 Recall: 0.4528301886792453\n",
      "ROUGE-1 F1-Score: 0.5714285714285714\n",
      "ROUGE-2 Precision: 0.6065573770491803\n",
      "ROUGE-2 Recall: 0.3523809523809524\n",
      "ROUGE-2 F1-Score: 0.4457831325301205\n",
      "ROUGE-L Precision: 0.5645161290322581\n",
      "ROUGE-L Recall: 0.330188679245283\n",
      "ROUGE-L F1-Score: 0.4166666666666667\n",
      "---------------------\n"
     ]
    }
   ],
   "source": [
    "# Use Rouge score technique to evaluate text summary\n",
    "rouge_scorer = rouge_scorer.RougeScorer(['rouge1', 'rouge2', 'rougeL'], use_stemmer=True)\n",
    "\n",
    "for i, (reference_summary, summary) in enumerate(zip(reference_summaries, generated_summaries)):\n",
    "    scores = rouge_scorer.score(reference_summary, summary)\n",
    "    print(f\"ROUGE scores for generated summary {i+1}:\")\n",
    "    print(\"ROUGE-1 Precision:\", scores['rouge1'].precision)\n",
    "    print(\"ROUGE-1 Recall:\", scores['rouge1'].recall)\n",
    "    print(\"ROUGE-1 F1-Score:\", scores['rouge1'].fmeasure)\n",
    "    print(\"ROUGE-2 Precision:\", scores['rouge2'].precision)\n",
    "    print(\"ROUGE-2 Recall:\", scores['rouge2'].recall)\n",
    "    print(\"ROUGE-2 F1-Score:\", scores['rouge2'].fmeasure)\n",
    "    print(\"ROUGE-L Precision:\", scores['rougeL'].precision)\n",
    "    print(\"ROUGE-L Recall:\", scores['rougeL'].recall)\n",
    "    print(\"ROUGE-L F1-Score:\", scores['rougeL'].fmeasure)\n",
    "    print(\"---------------------\")"
   ]
  },
  {
   "cell_type": "markdown",
   "id": "d0b415e1-bc51-468b-be43-8983f680e2c1",
   "metadata": {},
   "source": [
    "* Rouge-1 F1-score of 0.57 indicates 57% of unigram overlap between the reference summary and generated summary\n",
    "* Rouge-2 F1-score of 0.44 indicates 44% of bigram overlap between the reference summary and generated summary\n",
    "* Rouge-L F1-score of 0.41 indicates 41% overlap of longest common word-sequence between the reference summary and generated summary\n",
    "\n",
    "Rouge scores of 0.5 are considered excellent results considering how two summaries can be written differently."
   ]
  },
  {
   "cell_type": "code",
   "execution_count": null,
   "id": "963c3d0e-b8fd-4ed1-ae62-ab5d0286f711",
   "metadata": {},
   "outputs": [],
   "source": []
  }
 ],
 "metadata": {
  "kernelspec": {
   "display_name": "Python 3 (ipykernel)",
   "language": "python",
   "name": "python3"
  },
  "language_info": {
   "codemirror_mode": {
    "name": "ipython",
    "version": 3
   },
   "file_extension": ".py",
   "mimetype": "text/x-python",
   "name": "python",
   "nbconvert_exporter": "python",
   "pygments_lexer": "ipython3",
   "version": "3.9.7"
  }
 },
 "nbformat": 4,
 "nbformat_minor": 5
}
