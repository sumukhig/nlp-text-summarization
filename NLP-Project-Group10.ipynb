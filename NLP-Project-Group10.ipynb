{
 "cells": [
  {
   "cell_type": "markdown",
   "id": "46225c01-2085-4ac6-a2b6-d50de67c4db9",
   "metadata": {},
   "source": [
    "### Importing Necessary Packages"
   ]
  },
  {
   "cell_type": "code",
   "execution_count": 1,
   "id": "a4a43050-4f1b-47ef-9f96-b7b06f0b851b",
   "metadata": {},
   "outputs": [],
   "source": [
    "import random\n",
    "import glob\n",
    "import time\n",
    "import pandas as pd\n",
    "import numpy as np\n",
    "import re\n",
    "import xml.etree.ElementTree as ET\n",
    "from sentence_transformers import SentenceTransformer\n",
    "from rouge_score import rouge_scorer\n",
    "from statistics import mean\n",
    "from kneed import KneeLocator\n",
    "\n",
    "from sklearn.cluster import KMeans\n",
    "from sklearn.manifold import TSNE\n",
    "import matplotlib.pyplot as plt\n",
    "from wordcloud import WordCloud"
   ]
  },
  {
   "cell_type": "code",
   "execution_count": 2,
   "id": "78f6886e-a56b-482a-81a2-7bc5e38833fe",
   "metadata": {},
   "outputs": [],
   "source": [
    "data_directory='./data/scisummnet_release1.1__20190413/top1000_complete'\n",
    "embedder = SentenceTransformer('distilbert-base-nli-mean-tokens')\n",
    "data = {}"
   ]
  },
  {
   "cell_type": "markdown",
   "id": "066ca546-0927-4a02-9174-67451baba340",
   "metadata": {},
   "source": [
    "### Extracting Research Paper Data From XML files"
   ]
  },
  {
   "cell_type": "code",
   "execution_count": 3,
   "id": "8c0e070f-2b01-4f9b-82a4-90f73d69b844",
   "metadata": {},
   "outputs": [],
   "source": [
    "# Function to extract abstract from XML tree\n",
    "def extract_abstract(element):\n",
    "    abstract = ''\n",
    "    if element.tag == 'ABSTRACT':\n",
    "        for child in element:\n",
    "            line = child.text \n",
    "            # Text preprocessing\n",
    "            line = line.lower()\n",
    "            line = line.replace(\"quot\", \"\")\n",
    "            line = re.sub(r'https?://\\S+', '', line) \n",
    "            line = re.sub(r'[^\\w\\s]', '', line)\n",
    "            # Append to abstract\n",
    "            abstract = abstract + '\\n' + line\n",
    "    \n",
    "    return abstract"
   ]
  },
  {
   "cell_type": "code",
   "execution_count": 4,
   "id": "72acefcc-1144-4388-b303-3163c022642a",
   "metadata": {},
   "outputs": [],
   "source": [
    "# Function to extract paper text from XML tree\n",
    "def extract_data(element):\n",
    "    text_data = (element.text or \"\").strip()\n",
    "    # Separate abstract text from rest of the paper\n",
    "    if element.tag != 'ABSTRACT':\n",
    "        # Text preprocessing\n",
    "        text_data = text_data.lower()\n",
    "        text_data = text_data.replace(\"quot\", \"\")\n",
    "        text_data = re.sub(r'https?://\\S+', '', text_data) \n",
    "        text_data = re.sub(r'[^\\w\\s]', '', text_data)\n",
    "\n",
    "        for child in element:\n",
    "            text_data = np.append(text_data, extract_data(child))  \n",
    "\n",
    "    return text_data"
   ]
  },
  {
   "cell_type": "code",
   "execution_count": 5,
   "id": "97264f76-73e4-4136-b6dd-06c98d1d22c1",
   "metadata": {},
   "outputs": [],
   "source": [
    "# Function to extract all data related to a paper from dataset\n",
    "def get_contents(document_path):\n",
    "    summary_path = glob.glob(document_path + '/summary/*.txt')[0]\n",
    "    article_path = glob.glob(document_path + '/Documents_xml/*.xml')[0]\n",
    "    \n",
    "    summary_file = open(summary_path)\n",
    "    summary_content = summary_file.read()\n",
    "\n",
    "    article_tree = ET.parse(article_path)\n",
    "    article_root = article_tree.getroot()\n",
    "\n",
    "    abstract_element = None\n",
    "\n",
    "    for child in article_root:\n",
    "        if child.tag == 'ABSTRACT':\n",
    "            abstract_element = child\n",
    "\n",
    "    sentences = extract_data(article_root)\n",
    "\n",
    "    sentences = [s for s in list(sentences) if s != '']\n",
    "\n",
    "    title = sentences[0]\n",
    "\n",
    "    sentences = sentences[1:]\n",
    "\n",
    "    sentence_embeddings = embedder.encode(sentences)\n",
    "\n",
    "    if abstract_element: \n",
    "        abstract = extract_abstract(abstract_element)\n",
    "        abstract = title + abstract \n",
    "    else:\n",
    "        abstract = []\n",
    "\n",
    "    contents = {'title': title, 'sentences': sentences, 'embeddings': sentence_embeddings, 'summary': summary_content, 'abstract': abstract}\n",
    "\n",
    "    document_name = document_path.split('/')[-1]\n",
    "\n",
    "    data[document_name] = contents\n",
    "    \n",
    "    return contents"
   ]
  },
  {
   "cell_type": "markdown",
   "id": "0966a854-2abc-4357-967a-5f5855720977",
   "metadata": {},
   "source": [
    "# 1. Clustering-based Summarizer"
   ]
  },
  {
   "cell_type": "markdown",
   "id": "ed74d0ed-d4c4-4b88-a63f-f250a7087d26",
   "metadata": {},
   "source": [
    "### Elbow Method To Choose Optimum K-value "
   ]
  },
  {
   "cell_type": "code",
   "execution_count": 6,
   "id": "453fcceb-99e3-49b4-a968-06959b99fee6",
   "metadata": {},
   "outputs": [],
   "source": [
    "def find_optimum_clusters(contents):\n",
    "    \n",
    "    np.random.seed(60)\n",
    "    \n",
    "    ks = range(2, 6)\n",
    "    inertia = []\n",
    "    for k in ks:\n",
    "        # Create a KMeans instance with k clusters: model\n",
    "        model = KMeans(n_clusters=k, n_init='auto')\n",
    "        # Fit model to embeddings\n",
    "        model.fit(contents['embeddings'])\n",
    "        # Append the inertia to the list of inertias\n",
    "        inertia.append(model.inertia_)\n",
    "        \n",
    "    kn = KneeLocator(x=ks, y=inertia, curve='convex', direction='decreasing', S=0)\n",
    "    optimal_num_clusters = kn.elbow\n",
    "\n",
    "    # Plot ks vs inertias\n",
    "    plt.plot(ks, inertia, '-o')\n",
    "    plt.xlabel('number of clusters, k')\n",
    "    plt.ylabel('inertia')\n",
    "    plt.xticks(ks)\n",
    "    \n",
    "    #plt.show()\n",
    "    plt.close()\n",
    "    \n",
    "    return optimal_num_clusters"
   ]
  },
  {
   "cell_type": "markdown",
   "id": "471731cb-38ff-4310-bbec-d78570159c9b",
   "metadata": {},
   "source": [
    "### Fit Clustering Model on Data"
   ]
  },
  {
   "cell_type": "code",
   "execution_count": 7,
   "id": "c1d50f39-9fa8-4b43-af98-df94b98e2a2a",
   "metadata": {},
   "outputs": [],
   "source": [
    "def kMeansClustering(contents, num_clusters):\n",
    "    \n",
    "    np.random.seed(60)\n",
    "\n",
    "    # Use the K-means clustering algorithm to create clusters of sentences that are grouped by similarity\n",
    "    clustering_model = KMeans(n_clusters=num_clusters, n_init='auto')\n",
    "    clustering_model.fit(contents['embeddings'])\n",
    "    cluster_assignment = clustering_model.labels_\n",
    "    cluster_center = clustering_model.cluster_centers_\n",
    "    \n",
    "    return cluster_assignment"
   ]
  },
  {
   "cell_type": "markdown",
   "id": "c0bc42e9-2dc9-436f-ab02-67b761290245",
   "metadata": {},
   "source": [
    "### Generate Text Summary"
   ]
  },
  {
   "cell_type": "code",
   "execution_count": 8,
   "id": "c493fa64-543c-4b06-9049-40b848b39770",
   "metadata": {},
   "outputs": [],
   "source": [
    "# Function to generate the text summary by picking the first sentence in each cluster\n",
    "def generate_summary(cluster_assignment, num_clusters):\n",
    "    clustered_sentences = [[] for i in range(num_clusters)]\n",
    "    for sentence_id, cluster_id in enumerate(cluster_assignment):\n",
    "        clustered_sentences[cluster_id].append(contents['sentences'][sentence_id])\n",
    "    most_important_sentence = \"\"\n",
    "    generated_summary = \"\"\n",
    "    for i, cluster in enumerate(clustered_sentences):\n",
    "        #print(\"\\nCluster \", i+1)\n",
    "        #print(cluster)\n",
    "        most_important_sentence = cluster[0][:1].upper() + cluster[0][1:]\n",
    "        generated_summary += most_important_sentence + \". \"\n",
    "        \n",
    "    return generated_summary"
   ]
  },
  {
   "cell_type": "markdown",
   "id": "3799257f-663c-4573-8ade-7fa8ea421508",
   "metadata": {
    "tags": []
   },
   "source": [
    "### Evaluate Generated Summary"
   ]
  },
  {
   "cell_type": "code",
   "execution_count": 9,
   "id": "d697e24d-7aec-4e33-b4b7-69b1d116c8ac",
   "metadata": {},
   "outputs": [],
   "source": [
    "# Function to evaluate the model performance\n",
    "def evaluate(reference_summaries, generated_summaries):\n",
    "    # Use Rouge score technique to evaluate text summary\n",
    "    rouge_scoring = rouge_scorer.RougeScorer(['rouge1', 'rouge2', 'rougeL'], use_stemmer=False)\n",
    "\n",
    "    score_dict = {  \"r1-precision\":[]\n",
    "                   , \"r1-recall\":[]\n",
    "                   , \"r1-f1-score\":[]\n",
    "                   , \"r2-precision\":[]\n",
    "                   , \"r2-recall\":[]\n",
    "                   , \"r2-f1-score\":[]\n",
    "                   , \"rL-precision\":[]\n",
    "                   , \"rL-recall\":[]\n",
    "                   , \"rL-f1-score\":[]\n",
    "                    }\n",
    "\n",
    "    for i, (reference_summary, generated_summary) in enumerate(zip(reference_summaries, generated_summaries)):\n",
    "        scores = rouge_scoring.score(reference_summary, generated_summary)\n",
    "\n",
    "        score_dict[\"r1-precision\"].append(scores['rouge1'].precision)\n",
    "        score_dict[\"r1-recall\"].append(scores['rouge1'].recall)\n",
    "        score_dict[\"r1-f1-score\"].append(scores['rouge1'].fmeasure)\n",
    "        score_dict[\"r2-precision\"].append(scores['rouge2'].precision)\n",
    "        score_dict[\"r2-recall\"].append(scores['rouge2'].recall)\n",
    "        score_dict[\"r2-f1-score\"].append(scores['rouge2'].fmeasure)\n",
    "        score_dict[\"rL-precision\"].append(scores['rougeL'].precision)\n",
    "        score_dict[\"rL-recall\"].append(scores['rougeL'].recall)\n",
    "        score_dict[\"rL-f1-score\"].append(scores['rougeL'].fmeasure)\n",
    "    \n",
    "    return score_dict"
   ]
  },
  {
   "cell_type": "markdown",
   "id": "afdb22e0-3928-4e70-8bcc-4daffdb19950",
   "metadata": {},
   "source": [
    "### Iterate Over Entire Dataset"
   ]
  },
  {
   "cell_type": "code",
   "execution_count": 10,
   "id": "d03220f9-c14a-4ece-9ee6-a52a9299b2cf",
   "metadata": {},
   "outputs": [],
   "source": [
    "# Create lists to receive outputs\n",
    "abstracts = []\n",
    "manual_summaries = []\n",
    "generated_summaries = []"
   ]
  },
  {
   "cell_type": "code",
   "execution_count": 11,
   "id": "a8f0eb30-98f4-4073-9cd1-50ee5482f6e1",
   "metadata": {},
   "outputs": [
    {
     "name": "stdout",
     "output_type": "stream",
     "text": [
      "huggingface/tokenizers: The current process just got forked, after parallelism has already been used. Disabling parallelism to avoid deadlocks...\n",
      "To disable this warning, you can either:\n",
      "\t- Avoid using `tokenizers` before the fork if possible\n",
      "\t- Explicitly set the environment variable TOKENIZERS_PARALLELISM=(true | false)\n"
     ]
    },
    {
     "name": "stderr",
     "output_type": "stream",
     "text": [
      "/Users/sindhuswaroop/opt/anaconda3/lib/python3.9/site-packages/threadpoolctl.py:1010: RuntimeWarning: \n",
      "Found Intel OpenMP ('libiomp') and LLVM OpenMP ('libomp') loaded at\n",
      "the same time. Both libraries are known to be incompatible and this\n",
      "can cause random crashes or deadlocks on Linux when loaded in the\n",
      "same Python program.\n",
      "Using threadpoolctl may cause crashes or deadlocks. For more\n",
      "information and possible workarounds, please see\n",
      "    https://github.com/joblib/threadpoolctl/blob/master/multiple_openmp.md\n",
      "\n",
      "  warnings.warn(msg, RuntimeWarning)\n"
     ]
    },
    {
     "name": "stdout",
     "output_type": "stream",
     "text": [
      "1 ./data/scisummnet_release1.1__20190413/top1000_complete/P99-1008 123 Duration: 7.387693166732788\n",
      "2 ./data/scisummnet_release1.1__20190413/top1000_complete/J93-2003 677 Duration: 29.023864030838013\n",
      "3 ./data/scisummnet_release1.1__20190413/top1000_complete/W08-0336 184 Duration: 7.903412103652954\n",
      "4 ./data/scisummnet_release1.1__20190413/top1000_complete/N10-1119 157 Duration: 7.471269130706787\n",
      "5 ./data/scisummnet_release1.1__20190413/top1000_complete/P04-3022 77 Duration: 2.581486940383911\n",
      "6 ./data/scisummnet_release1.1__20190413/top1000_complete/J06-3003 600 Duration: 24.520527839660645\n",
      "7 ./data/scisummnet_release1.1__20190413/top1000_complete/W08-0309 244 Duration: 8.548501968383789\n",
      "8 ./data/scisummnet_release1.1__20190413/top1000_complete/P08-1114 145 Duration: 6.758153915405273\n",
      "9 ./data/scisummnet_release1.1__20190413/top1000_complete/P87-1033 139 Duration: 6.50347113609314\n",
      "10 ./data/scisummnet_release1.1__20190413/top1000_complete/J98-1006 338 Duration: 11.54868197441101\n",
      "11 ./data/scisummnet_release1.1__20190413/top1000_complete/P06-2066 139 Duration: 6.974929094314575\n",
      "12 ./data/scisummnet_release1.1__20190413/top1000_complete/J02-3001 603 Duration: 24.12263298034668\n"
     ]
    }
   ],
   "source": [
    "# Iterate over papers in the dataset to generate summaries\n",
    "for i, doc in enumerate(glob.glob(data_directory + '/*')[0:12]):\n",
    "    start_time = time.time()\n",
    "    contents = get_contents(doc)\n",
    "    optimal_num_clusters = find_optimum_clusters(contents)\n",
    "    cluster_assignment = kMeansClustering(contents, optimal_num_clusters)\n",
    "    result = generate_summary(cluster_assignment, optimal_num_clusters)\n",
    "    abstracts.append(contents['abstract'])\n",
    "    manual_summaries.append(contents['summary'])\n",
    "    generated_summaries.append(result)\n",
    "    end_time = time.time()\n",
    "    print(i+1, doc, len(contents['sentences']), 'Duration:', end_time - start_time)"
   ]
  },
  {
   "cell_type": "markdown",
   "id": "e81fd683-433c-4895-a55a-27548941a532",
   "metadata": {},
   "source": [
    "### Evaluate Model Performance"
   ]
  },
  {
   "cell_type": "code",
   "execution_count": 12,
   "id": "a448345f-5aab-47b1-8cc9-c98b36009d4b",
   "metadata": {},
   "outputs": [
    {
     "name": "stdout",
     "output_type": "stream",
     "text": [
      "Average ROUGE-1 F1-Score against Manual Summaries: 0.36215022953012577\n",
      "Average ROUGE-1 F1-Score against Abstracts: 0.39686920413428584\n",
      "Average ROUGE-2 F1-Score against Manual Summaries: 0.18604580587167147\n",
      "Average ROUGE-2 F1-Score against Abstracts: 0.22448269454692155\n",
      "Average ROUGE-L F1-Score against Manual Summaries: 0.20815684934212741\n",
      "Average ROUGE-L F1-Score against Abstracts: 0.22905395373360005\n"
     ]
    }
   ],
   "source": [
    "rouge_scores_manual_summaries = evaluate(manual_summaries, generated_summaries)\n",
    "rouge_scores_abstracts = evaluate(abstracts, generated_summaries)\n",
    "\n",
    "print('Average ROUGE-1 F1-Score against Manual Summaries:', mean(rouge_scores_manual_summaries['r1-f1-score']))\n",
    "print('Average ROUGE-1 F1-Score against Abstracts:', mean(rouge_scores_abstracts['r1-f1-score']))\n",
    "print('Average ROUGE-2 F1-Score against Manual Summaries:', mean(rouge_scores_manual_summaries['r2-f1-score']))\n",
    "print('Average ROUGE-2 F1-Score against Abstracts:', mean(rouge_scores_abstracts['r2-f1-score']))\n",
    "print('Average ROUGE-L F1-Score against Manual Summaries:', mean(rouge_scores_manual_summaries['rL-f1-score']))\n",
    "print('Average ROUGE-L F1-Score against Abstracts:', mean(rouge_scores_abstracts['rL-f1-score']))"
   ]
  },
  {
   "cell_type": "markdown",
   "id": "001668d4-8ca4-4a6c-b1db-0d2f3d10042d",
   "metadata": {},
   "source": [
    "* Rouge-1 F1-score of 0.57 indicates 57% of unigram overlap between the reference summary and generated summary\n",
    "* Rouge-2 F1-score of 0.44 indicates 44% of bigram overlap between the reference summary and generated summary\n",
    "* Rouge-L F1-score of 0.41 indicates 41% overlap of longest common word-sequence between the reference summary and generated summary"
   ]
  },
  {
   "cell_type": "markdown",
   "id": "2fa339e0-c4ca-4e83-bf89-51d40eb75eec",
   "metadata": {},
   "source": [
    "### Visualize K-means clusters in 2-D"
   ]
  },
  {
   "cell_type": "code",
   "execution_count": 13,
   "id": "c83bb719-6349-4e0c-8250-df2c1582aab1",
   "metadata": {},
   "outputs": [
    {
     "data": {
      "image/png": "[encoded data removed]",
      "text/plain": [
       "<Figure size 576x432 with 1 Axes>"
      ]
     },
     "metadata": {
      "needs_background": "light"
     },
     "output_type": "display_data"
    }
   ],
   "source": [
    "# Create a t-SNE object with 2 components (2D visualization)\n",
    "tsne = TSNE(n_components=2, random_state=42)\n",
    "\n",
    "# clusterCenterFit the t-SNE on your data (corpus_embeddings)\n",
    "embeddings_2d = tsne.fit_transform(contents['embeddings'])\n",
    "cluster_centers_2d = np.zeros((optimal_num_clusters, 2))\n",
    "\n",
    "# Plot the data points with different colors based on their cluster assignments\n",
    "plt.figure(figsize=(8, 6))\n",
    "for i in range(optimal_num_clusters):\n",
    "    plt.scatter(embeddings_2d[cluster_assignment == i, 0],\n",
    "                embeddings_2d[cluster_assignment == i, 1],\n",
    "                label=f\"Cluster {i}\")\n",
    "    cluster_centers_2d[i] = np.mean(embeddings_2d[cluster_assignment == i], axis=0)\n",
    "\n",
    "# Plot the cluster centers with black 'X' markers\n",
    "plt.scatter(cluster_centers_2d[:, 0], cluster_centers_2d[:, 1],\n",
    "            marker='X', s=150, color='black', label='Cluster Centers')\n",
    "\n",
    "plt.legend()\n",
    "plt.title(\"t-SNE Visualization of K-means Clusters\")\n",
    "plt.xlabel(\"t-SNE Dimension 1\")\n",
    "plt.ylabel(\"t-SNE Dimension 2\")\n",
    "plt.show()"
   ]
  },
  {
   "cell_type": "code",
   "execution_count": null,
   "id": "963c3d0e-b8fd-4ed1-ae62-ab5d0286f711",
   "metadata": {},
   "outputs": [],
   "source": []
  }
 ],
 "metadata": {
  "kernelspec": {
   "display_name": "Python 3 (ipykernel)",
   "language": "python",
   "name": "python3"
  },
  "language_info": {
   "codemirror_mode": {
    "name": "ipython",
    "version": 3
   },
   "file_extension": ".py",
   "mimetype": "text/x-python",
   "name": "python",
   "nbconvert_exporter": "python",
   "pygments_lexer": "ipython3",
   "version": "3.9.7"
  }
 },
 "nbformat": 4,
 "nbformat_minor": 5
}
